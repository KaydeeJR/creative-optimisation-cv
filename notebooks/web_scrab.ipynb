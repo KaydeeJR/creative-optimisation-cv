{
 "cells": [
  {
   "cell_type": "code",
   "execution_count": null,
   "metadata": {},
   "outputs": [],
   "source": []
  },
  {
   "cell_type": "code",
   "execution_count": 1,
   "metadata": {},
   "outputs": [
    {
     "ename": "DisplayConnectionError",
     "evalue": "Can't connect to display \":0.0\": [Errno 111] Connection refused",
     "output_type": "error",
     "traceback": [
      "\u001b[0;31m---------------------------------------------------------------------------\u001b[0m",
      "\u001b[0;31mConnectionRefusedError\u001b[0m                    Traceback (most recent call last)",
      "File \u001b[0;32m~/creative-optimization/creative-optimisation-cv/.env/lib/python3.8/site-packages/Xlib/support/unix_connect.py:119\u001b[0m, in \u001b[0;36mget_socket\u001b[0;34m(dname, protocol, host, dno)\u001b[0m\n\u001b[1;32m    118\u001b[0m \u001b[39mtry\u001b[39;00m:\n\u001b[0;32m--> 119\u001b[0m     s \u001b[39m=\u001b[39m _get_unix_socket(address)\n\u001b[1;32m    120\u001b[0m \u001b[39mexcept\u001b[39;00m socket\u001b[39m.\u001b[39merror:\n",
      "File \u001b[0;32m~/creative-optimization/creative-optimisation-cv/.env/lib/python3.8/site-packages/Xlib/support/unix_connect.py:98\u001b[0m, in \u001b[0;36m_get_unix_socket\u001b[0;34m(address)\u001b[0m\n\u001b[1;32m     97\u001b[0m s \u001b[39m=\u001b[39m socket\u001b[39m.\u001b[39msocket(socket\u001b[39m.\u001b[39mAF_UNIX, socket\u001b[39m.\u001b[39mSOCK_STREAM)\n\u001b[0;32m---> 98\u001b[0m s\u001b[39m.\u001b[39;49mconnect(address)\n\u001b[1;32m     99\u001b[0m \u001b[39mreturn\u001b[39;00m s\n",
      "\u001b[0;31mConnectionRefusedError\u001b[0m: [Errno 111] Connection refused",
      "\nDuring handling of the above exception, another exception occurred:\n",
      "\u001b[0;31mConnectionRefusedError\u001b[0m                    Traceback (most recent call last)",
      "File \u001b[0;32m~/creative-optimization/creative-optimisation-cv/.env/lib/python3.8/site-packages/Xlib/support/unix_connect.py:123\u001b[0m, in \u001b[0;36mget_socket\u001b[0;34m(dname, protocol, host, dno)\u001b[0m\n\u001b[1;32m    121\u001b[0m \u001b[39mif\u001b[39;00m \u001b[39mnot\u001b[39;00m protocol \u001b[39mand\u001b[39;00m \u001b[39mnot\u001b[39;00m host:\n\u001b[1;32m    122\u001b[0m     \u001b[39m# If no protocol/host was specified, fallback to TCP.\u001b[39;00m\n\u001b[0;32m--> 123\u001b[0m     s \u001b[39m=\u001b[39m _get_tcp_socket(host, dno)\n\u001b[1;32m    124\u001b[0m \u001b[39melse\u001b[39;00m:\n",
      "File \u001b[0;32m~/creative-optimization/creative-optimisation-cv/.env/lib/python3.8/site-packages/Xlib/support/unix_connect.py:93\u001b[0m, in \u001b[0;36m_get_tcp_socket\u001b[0;34m(host, dno)\u001b[0m\n\u001b[1;32m     92\u001b[0m s \u001b[39m=\u001b[39m socket\u001b[39m.\u001b[39msocket(socket\u001b[39m.\u001b[39mAF_INET, socket\u001b[39m.\u001b[39mSOCK_STREAM)\n\u001b[0;32m---> 93\u001b[0m s\u001b[39m.\u001b[39;49mconnect((host, \u001b[39m6000\u001b[39;49m \u001b[39m+\u001b[39;49m dno))\n\u001b[1;32m     94\u001b[0m \u001b[39mreturn\u001b[39;00m s\n",
      "\u001b[0;31mConnectionRefusedError\u001b[0m: [Errno 111] Connection refused",
      "\nDuring handling of the above exception, another exception occurred:\n",
      "\u001b[0;31mDisplayConnectionError\u001b[0m                    Traceback (most recent call last)",
      "Cell \u001b[0;32mIn [1], line 14\u001b[0m\n\u001b[1;32m     12\u001b[0m os\u001b[39m.\u001b[39menviron[\u001b[39m\"\u001b[39m\u001b[39mDISPLAY\u001b[39m\u001b[39m\"\u001b[39m] \u001b[39m=\u001b[39m \u001b[39m\"\u001b[39m\u001b[39m:0.0\u001b[39m\u001b[39m\"\u001b[39m\n\u001b[1;32m     13\u001b[0m \u001b[39mfrom\u001b[39;00m \u001b[39msubprocess\u001b[39;00m \u001b[39mimport\u001b[39;00m Popen, call\n\u001b[0;32m---> 14\u001b[0m \u001b[39mimport\u001b[39;00m \u001b[39mpyautogui\u001b[39;00m\n\u001b[1;32m     15\u001b[0m \u001b[39mimport\u001b[39;00m \u001b[39mffmpeg\u001b[39;00m\n\u001b[1;32m     16\u001b[0m \u001b[39mprint\u001b[39m(os\u001b[39m.\u001b[39menviron[\u001b[39m\"\u001b[39m\u001b[39mDISPLAY\u001b[39m\u001b[39m\"\u001b[39m])\n",
      "File \u001b[0;32m~/creative-optimization/creative-optimisation-cv/.env/lib/python3.8/site-packages/pyautogui/__init__.py:249\u001b[0m\n\u001b[1;32m    245\u001b[0m     screenshot \u001b[39m=\u001b[39m _couldNotImportPyScreeze\n\u001b[1;32m    248\u001b[0m \u001b[39mtry\u001b[39;00m:\n\u001b[0;32m--> 249\u001b[0m     \u001b[39mimport\u001b[39;00m \u001b[39mmouseinfo\u001b[39;00m\n\u001b[1;32m    251\u001b[0m     \u001b[39mdef\u001b[39;00m \u001b[39mmouseInfo\u001b[39m():\n\u001b[1;32m    252\u001b[0m         \u001b[39m\"\"\"\u001b[39;00m\n\u001b[1;32m    253\u001b[0m \u001b[39m        Launches the MouseInfo app. This application provides mouse coordinate information which can be useful when\u001b[39;00m\n\u001b[1;32m    254\u001b[0m \u001b[39m        planning GUI automation tasks. This function blocks until the application is closed.\u001b[39;00m\n\u001b[1;32m    255\u001b[0m \u001b[39m        \"\"\"\u001b[39;00m\n",
      "File \u001b[0;32m~/creative-optimization/creative-optimisation-cv/.env/lib/python3.8/site-packages/mouseinfo/__init__.py:223\u001b[0m\n\u001b[1;32m    220\u001b[0m     \u001b[39melse\u001b[39;00m:\n\u001b[1;32m    221\u001b[0m         \u001b[39mraise\u001b[39;00m\n\u001b[0;32m--> 223\u001b[0m _display \u001b[39m=\u001b[39m Display(os\u001b[39m.\u001b[39;49menviron[\u001b[39m'\u001b[39;49m\u001b[39mDISPLAY\u001b[39;49m\u001b[39m'\u001b[39;49m])\n\u001b[1;32m    225\u001b[0m \u001b[39mdef\u001b[39;00m \u001b[39m_linuxPosition\u001b[39m():\n\u001b[1;32m    226\u001b[0m     coord \u001b[39m=\u001b[39m _display\u001b[39m.\u001b[39mscreen()\u001b[39m.\u001b[39mroot\u001b[39m.\u001b[39mquery_pointer()\u001b[39m.\u001b[39m_data\n",
      "File \u001b[0;32m~/creative-optimization/creative-optimisation-cv/.env/lib/python3.8/site-packages/Xlib/display.py:89\u001b[0m, in \u001b[0;36mDisplay.__init__\u001b[0;34m(self, display)\u001b[0m\n\u001b[1;32m     88\u001b[0m \u001b[39mdef\u001b[39;00m \u001b[39m__init__\u001b[39m(\u001b[39mself\u001b[39m, display \u001b[39m=\u001b[39m \u001b[39mNone\u001b[39;00m):\n\u001b[0;32m---> 89\u001b[0m     \u001b[39mself\u001b[39m\u001b[39m.\u001b[39mdisplay \u001b[39m=\u001b[39m _BaseDisplay(display)\n\u001b[1;32m     91\u001b[0m     \u001b[39m# Create the keymap cache\u001b[39;00m\n\u001b[1;32m     92\u001b[0m     \u001b[39mself\u001b[39m\u001b[39m.\u001b[39m_keymap_codes \u001b[39m=\u001b[39m [()] \u001b[39m*\u001b[39m \u001b[39m256\u001b[39m\n",
      "File \u001b[0;32m~/creative-optimization/creative-optimisation-cv/.env/lib/python3.8/site-packages/Xlib/display.py:71\u001b[0m, in \u001b[0;36m_BaseDisplay.__init__\u001b[0;34m(self, *args, **keys)\u001b[0m\n\u001b[1;32m     69\u001b[0m \u001b[39mdef\u001b[39;00m \u001b[39m__init__\u001b[39m(\u001b[39mself\u001b[39m, \u001b[39m*\u001b[39margs, \u001b[39m*\u001b[39m\u001b[39m*\u001b[39mkeys):\n\u001b[1;32m     70\u001b[0m     \u001b[39mself\u001b[39m\u001b[39m.\u001b[39mresource_classes \u001b[39m=\u001b[39m _resource_baseclasses\u001b[39m.\u001b[39mcopy()\n\u001b[0;32m---> 71\u001b[0m     protocol_display\u001b[39m.\u001b[39;49mDisplay\u001b[39m.\u001b[39;49m\u001b[39m__init__\u001b[39;49m(\u001b[39mself\u001b[39;49m, \u001b[39m*\u001b[39;49margs, \u001b[39m*\u001b[39;49m\u001b[39m*\u001b[39;49mkeys)\n\u001b[1;32m     72\u001b[0m     \u001b[39mself\u001b[39m\u001b[39m.\u001b[39m_atom_cache \u001b[39m=\u001b[39m {}\n",
      "File \u001b[0;32m~/creative-optimization/creative-optimisation-cv/.env/lib/python3.8/site-packages/Xlib/protocol/display.py:89\u001b[0m, in \u001b[0;36mDisplay.__init__\u001b[0;34m(self, display)\u001b[0m\n\u001b[1;32m     86\u001b[0m \u001b[39mself\u001b[39m\u001b[39m.\u001b[39mdisplay_name \u001b[39m=\u001b[39m name\n\u001b[1;32m     87\u001b[0m \u001b[39mself\u001b[39m\u001b[39m.\u001b[39mdefault_screen \u001b[39m=\u001b[39m screenno\n\u001b[0;32m---> 89\u001b[0m \u001b[39mself\u001b[39m\u001b[39m.\u001b[39msocket \u001b[39m=\u001b[39m connect\u001b[39m.\u001b[39;49mget_socket(name, protocol, host, displayno)\n\u001b[1;32m     91\u001b[0m auth_name, auth_data \u001b[39m=\u001b[39m connect\u001b[39m.\u001b[39mget_auth(\u001b[39mself\u001b[39m\u001b[39m.\u001b[39msocket, name,\n\u001b[1;32m     92\u001b[0m                                         protocol, host, displayno)\n\u001b[1;32m     94\u001b[0m \u001b[39m# Internal structures for communication, grouped\u001b[39;00m\n\u001b[1;32m     95\u001b[0m \u001b[39m# by their function and locks\u001b[39;00m\n\u001b[1;32m     96\u001b[0m \n\u001b[1;32m     97\u001b[0m \u001b[39m# Socket error indicator, set when the socket is closed\u001b[39;00m\n\u001b[1;32m     98\u001b[0m \u001b[39m# in one way or another\u001b[39;00m\n",
      "File \u001b[0;32m~/creative-optimization/creative-optimisation-cv/.env/lib/python3.8/site-packages/Xlib/support/connect.py:87\u001b[0m, in \u001b[0;36mget_socket\u001b[0;34m(dname, protocol, host, dno)\u001b[0m\n\u001b[1;32m     85\u001b[0m modname \u001b[39m=\u001b[39m _socket_mods\u001b[39m.\u001b[39mget(platform, _default_socket_mod)\n\u001b[1;32m     86\u001b[0m mod \u001b[39m=\u001b[39m _relative_import(modname)\n\u001b[0;32m---> 87\u001b[0m \u001b[39mreturn\u001b[39;00m mod\u001b[39m.\u001b[39;49mget_socket(dname, protocol, host, dno)\n",
      "File \u001b[0;32m~/creative-optimization/creative-optimisation-cv/.env/lib/python3.8/site-packages/Xlib/support/unix_connect.py:127\u001b[0m, in \u001b[0;36mget_socket\u001b[0;34m(dname, protocol, host, dno)\u001b[0m\n\u001b[1;32m    125\u001b[0m                 \u001b[39mraise\u001b[39;00m\n\u001b[1;32m    126\u001b[0m \u001b[39mexcept\u001b[39;00m socket\u001b[39m.\u001b[39merror \u001b[39mas\u001b[39;00m val:\n\u001b[0;32m--> 127\u001b[0m     \u001b[39mraise\u001b[39;00m error\u001b[39m.\u001b[39mDisplayConnectionError(dname, \u001b[39mstr\u001b[39m(val))\n\u001b[1;32m    129\u001b[0m \u001b[39m# Make sure that the connection isn't inherited in child processes.\u001b[39;00m\n\u001b[1;32m    130\u001b[0m fcntl\u001b[39m.\u001b[39mfcntl(s\u001b[39m.\u001b[39mfileno(), F_SETFD, FD_CLOEXEC)\n",
      "\u001b[0;31mDisplayConnectionError\u001b[0m: Can't connect to display \":0.0\": [Errno 111] Connection refused"
     ]
    }
   ],
   "source": [
    "# Imports\n",
    "from typing import Tuple\n",
    "from time import sleep\n",
    "from selenium import webdriver\n",
    "from selenium.webdriver.chrome.options import Options\n",
    "from selenium.webdriver.support.ui import WebDriverWait\n",
    "from selenium.webdriver.common.by import By\n",
    "from selenium.common.exceptions import TimeoutException, NoSuchElementException\n",
    "from selenium.webdriver.common.desired_capabilities import DesiredCapabilities\n",
    "from os import path\n",
    "import os\n",
    "os.environ[\"DISPLAY\"] = \":0.0\"\n",
    "from subprocess import Popen, call\n",
    "import pyautogui\n",
    "import ffmpeg\n",
    "print(os.environ[\"DISPLAY\"])\n"
   ]
  }
 ],
 "metadata": {
  "kernelspec": {
   "display_name": "Python 3.8.10 ('.env': venv)",
   "language": "python",
   "name": "python3"
  },
  "language_info": {
   "codemirror_mode": {
    "name": "ipython",
    "version": 3
   },
   "file_extension": ".py",
   "mimetype": "text/x-python",
   "name": "python",
   "nbconvert_exporter": "python",
   "pygments_lexer": "ipython3",
   "version": "3.8.10"
  },
  "orig_nbformat": 4,
  "vscode": {
   "interpreter": {
    "hash": "bc129abd2f7491e5923cf05ccd2ab6ea906a3ae76280879defadd05f41862ba1"
   }
  }
 },
 "nbformat": 4,
 "nbformat_minor": 2
}
