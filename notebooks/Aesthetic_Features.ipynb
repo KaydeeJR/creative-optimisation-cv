{
 "cells": [
  {
   "attachments": {},
   "cell_type": "markdown",
   "metadata": {},
   "source": [
    "# Aesthetic Feature Extraction"
   ]
  },
  {
   "attachments": {},
   "cell_type": "markdown",
   "metadata": {},
   "source": [
    "##### By Aesthetic feature extraction we refer to the aesthetical components of an image this mainly refers to Color, Composition and Texture of an adcreative. This features are extracted on the top of the assumption the peoples are attracted to beauty as a whole eventhough different persons have different perception of beauty."
   ]
  },
  {
   "cell_type": "code",
   "execution_count": null,
   "metadata": {},
   "outputs": [],
   "source": [
    "class ImageColor():\n",
    "    def __init__(self, image_path):\n",
    "        super(ImageColor, self).__init__()\n",
    "\n",
    "        # Read in the image\n",
    "        self.bgr_img = None\n",
    "        self.hsv_img = None\n",
    "        self.gray_img = None\n",
    "\n",
    "        self.h_mean, self.s_mean, self.v_mean = None, None, None\n",
    "        self.h_std, self.s_std, self.v_std = None, None, None\n",
    "\n",
    "        # Read in the image\n",
    "        self.read_in(image_path)\n",
    "\n",
    "    def update(self, image_path):\n",
    "        self.read_in(image_path)"
   ]
  }
 ],
 "metadata": {
  "kernelspec": {
   "display_name": "Python 3.8.10 ('.env': venv)",
   "language": "python",
   "name": "python3"
  },
  "language_info": {
   "name": "python",
   "version": "3.8.10"
  },
  "orig_nbformat": 4,
  "vscode": {
   "interpreter": {
    "hash": "bc129abd2f7491e5923cf05ccd2ab6ea906a3ae76280879defadd05f41862ba1"
   }
  }
 },
 "nbformat": 4,
 "nbformat_minor": 2
}
