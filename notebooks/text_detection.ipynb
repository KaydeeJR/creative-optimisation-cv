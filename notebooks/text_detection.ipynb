{
 "cells": [
  {
   "cell_type": "code",
   "execution_count": 1,
   "metadata": {},
   "outputs": [],
   "source": [
    "# paths\n",
    "import os.path\n",
    "from os import path\n",
    "import sys\n",
    "import glob"
   ]
  },
  {
   "cell_type": "code",
   "execution_count": 2,
   "metadata": {},
   "outputs": [],
   "source": [
    "import pandas as pd\n",
    "sys.path.append('../scripts')"
   ]
  },
  {
   "cell_type": "code",
   "execution_count": 3,
   "metadata": {},
   "outputs": [],
   "source": [
    "# custom modules\n",
    "from text_detect import Text_Extraction"
   ]
  },
  {
   "cell_type": "code",
   "execution_count": 4,
   "metadata": {},
   "outputs": [
    {
     "data": {
      "text/plain": [
       "['../Challenge_Data/Assets/ed3071a667a11cc56e88ae0489bfe6aa',\n",
       " '../Challenge_Data/Assets/4799763419d621cd41e7fb8abbcdd45d',\n",
       " '../Challenge_Data/Assets/bf1f7af46eec0e92939a8b3ba51cbacd',\n",
       " '../Challenge_Data/Assets/e68e20f592457b875ce29757ab855dfe',\n",
       " '../Challenge_Data/Assets/6a8e741867d4f893afad015b77b52c39']"
      ]
     },
     "execution_count": 4,
     "metadata": {},
     "output_type": "execute_result"
    }
   ],
   "source": [
    "# reading \n",
    "list_assets = glob.glob('../Challenge_Data/Assets/*')\n",
    "list_assets[0:5]"
   ]
  },
  {
   "cell_type": "code",
   "execution_count": 5,
   "metadata": {},
   "outputs": [],
   "source": [
    "# initialize the class\n",
    "extract =Text_Extraction()"
   ]
  },
  {
   "cell_type": "code",
   "execution_count": 10,
   "metadata": {},
   "outputs": [],
   "source": [
    "# creating empty dictinary\n",
    "lists_text =[]\n",
    "# we have used the preview image for text extraction \n",
    "image='_preview.png'\n",
    "for ls in list_assets:\n",
    "    if path.exists(ls+'/'+image):\n",
    "        #lists_text.append(ls)\n",
    "        text_value=extract.extract_text(ls+'/'+image, r'/usr/bin/tesseract')\n",
    "        lists_text.append(text_value)"
   ]
  },
  {
   "cell_type": "code",
   "execution_count": 12,
   "metadata": {},
   "outputs": [],
   "source": [
    "# creating dataframe\n",
    "text_df = pd.DataFrame(zip(lists_text), columns=['Text'])"
   ]
  },
  {
   "cell_type": "code",
   "execution_count": 13,
   "metadata": {},
   "outputs": [
    {
     "data": {
      "text/html": [
       "<div>\n",
       "<style scoped>\n",
       "    .dataframe tbody tr th:only-of-type {\n",
       "        vertical-align: middle;\n",
       "    }\n",
       "\n",
       "    .dataframe tbody tr th {\n",
       "        vertical-align: top;\n",
       "    }\n",
       "\n",
       "    .dataframe thead th {\n",
       "        text-align: right;\n",
       "    }\n",
       "</style>\n",
       "<table border=\"1\" class=\"dataframe\">\n",
       "  <thead>\n",
       "    <tr style=\"text-align: right;\">\n",
       "      <th></th>\n",
       "      <th>Text</th>\n",
       "    </tr>\n",
       "  </thead>\n",
       "  <tbody>\n",
       "    <tr>\n",
       "      <th>0</th>\n",
       "      <td>CR rR CRC ne OCR a ected\\n\\nMICHAEL KEATON = M...</td>\n",
       "    </tr>\n",
       "    <tr>\n",
       "      <th>1</th>\n",
       "      <td>Ovexus\\nL/CERTIFIED BY LEXUS\\n\\nTAP THE SCREEN...</td>\n",
       "    </tr>\n",
       "    <tr>\n",
       "      <th>2</th>\n",
       "      <td>UTS\\n\\n \\n</td>\n",
       "    </tr>\n",
       "    <tr>\n",
       "      <th>3</th>\n",
       "      <td>Ovexus\\nL/CERTIFIED BY LEXUS\\n\\nTAP THE SCREEN...</td>\n",
       "    </tr>\n",
       "    <tr>\n",
       "      <th>4</th>\n",
       "      <td>Ovexus\\nL/CERTIFIED BY LEXUS\\n\\nTAP THE SCREEN...</td>\n",
       "    </tr>\n",
       "  </tbody>\n",
       "</table>\n",
       "</div>"
      ],
      "text/plain": [
       "                                                Text\n",
       "0  CR rR CRC ne OCR a ected\\n\\nMICHAEL KEATON = M...\n",
       "1  Ovexus\\nL/CERTIFIED BY LEXUS\\n\\nTAP THE SCREEN...\n",
       "2                                        UTS\\n\\n \\n\n",
       "\n",
       "3  Ovexus\\nL/CERTIFIED BY LEXUS\\n\\nTAP THE SCREEN...\n",
       "4  Ovexus\\nL/CERTIFIED BY LEXUS\\n\\nTAP THE SCREEN..."
      ]
     },
     "execution_count": 13,
     "metadata": {},
     "output_type": "execute_result"
    }
   ],
   "source": [
    "# checking\n",
    "text_df.head()"
   ]
  },
  {
   "cell_type": "markdown",
   "metadata": {},
   "source": [
    "### Text preprocessing and feature engineering "
   ]
  },
  {
   "cell_type": "code",
   "execution_count": 14,
   "metadata": {},
   "outputs": [],
   "source": [
    "# replacing any characters based on the below pattern\n",
    "text_df.replace(to_replace=[r\"\\\\t|\\\\n|\\\\r\", \"\\t|\\n|\\r\"], value=[\"\",\"\"], regex=True, inplace=True)\n",
    "# adding some features\n",
    "text_df['Text_Char_Length'] = text_df['Text'].str.len()\n",
    "text_df['Text_Word_Length'] = text_df['Text'].str.split().str.len()"
   ]
  },
  {
   "cell_type": "code",
   "execution_count": 16,
   "metadata": {},
   "outputs": [
    {
     "data": {
      "text/plain": [
       "(546, 3)"
      ]
     },
     "execution_count": 16,
     "metadata": {},
     "output_type": "execute_result"
    }
   ],
   "source": [
    "text_df.shape"
   ]
  },
  {
   "cell_type": "code",
   "execution_count": 15,
   "metadata": {},
   "outputs": [
    {
     "data": {
      "text/html": [
       "<div>\n",
       "<style scoped>\n",
       "    .dataframe tbody tr th:only-of-type {\n",
       "        vertical-align: middle;\n",
       "    }\n",
       "\n",
       "    .dataframe tbody tr th {\n",
       "        vertical-align: top;\n",
       "    }\n",
       "\n",
       "    .dataframe thead th {\n",
       "        text-align: right;\n",
       "    }\n",
       "</style>\n",
       "<table border=\"1\" class=\"dataframe\">\n",
       "  <thead>\n",
       "    <tr style=\"text-align: right;\">\n",
       "      <th></th>\n",
       "      <th>Text</th>\n",
       "      <th>Text_Char_Length</th>\n",
       "      <th>Text_Word_Length</th>\n",
       "    </tr>\n",
       "  </thead>\n",
       "  <tbody>\n",
       "    <tr>\n",
       "      <th>0</th>\n",
       "      <td>CR rR CRC ne OCR a ectedMICHAEL KEATON = MAGGI...</td>\n",
       "      <td>72</td>\n",
       "      <td>14</td>\n",
       "    </tr>\n",
       "    <tr>\n",
       "      <th>1</th>\n",
       "      <td>OvexusL/CERTIFIED BY LEXUSTAP THE SCREENto fin...</td>\n",
       "      <td>78</td>\n",
       "      <td>10</td>\n",
       "    </tr>\n",
       "    <tr>\n",
       "      <th>2</th>\n",
       "      <td>UTS</td>\n",
       "      <td>5</td>\n",
       "      <td>1</td>\n",
       "    </tr>\n",
       "    <tr>\n",
       "      <th>3</th>\n",
       "      <td>OvexusL/CERTIFIED BY LEXUSTAP THE SCREENto fin...</td>\n",
       "      <td>78</td>\n",
       "      <td>10</td>\n",
       "    </tr>\n",
       "    <tr>\n",
       "      <th>4</th>\n",
       "      <td>OvexusL/CERTIFIED BY LEXUSTAP THE SCREENto fin...</td>\n",
       "      <td>80</td>\n",
       "      <td>10</td>\n",
       "    </tr>\n",
       "  </tbody>\n",
       "</table>\n",
       "</div>"
      ],
      "text/plain": [
       "                                                Text  Text_Char_Length  \\\n",
       "0  CR rR CRC ne OCR a ectedMICHAEL KEATON = MAGGI...                72   \n",
       "1  OvexusL/CERTIFIED BY LEXUSTAP THE SCREENto fin...                78   \n",
       "2                                              UTS \n",
       "                 5   \n",
       "3  OvexusL/CERTIFIED BY LEXUSTAP THE SCREENto fin...                78   \n",
       "4  OvexusL/CERTIFIED BY LEXUSTAP THE SCREENto fin...                80   \n",
       "\n",
       "   Text_Word_Length  \n",
       "0                14  \n",
       "1                10  \n",
       "2                 1  \n",
       "3                10  \n",
       "4                10  "
      ]
     },
     "execution_count": 15,
     "metadata": {},
     "output_type": "execute_result"
    }
   ],
   "source": [
    "text_df.head()"
   ]
  }
 ],
 "metadata": {
  "kernelspec": {
   "display_name": "Python 3.7.6 ('myenv': venv)",
   "language": "python",
   "name": "python3"
  },
  "language_info": {
   "codemirror_mode": {
    "name": "ipython",
    "version": 3
   },
   "file_extension": ".py",
   "mimetype": "text/x-python",
   "name": "python",
   "nbconvert_exporter": "python",
   "pygments_lexer": "ipython3",
   "version": "3.7.6"
  },
  "orig_nbformat": 4,
  "vscode": {
   "interpreter": {
    "hash": "b3e7dd532166ebe50fb06525664877c6a2d17928b4c11ce0041b5245073b656b"
   }
  }
 },
 "nbformat": 4,
 "nbformat_minor": 2
}
