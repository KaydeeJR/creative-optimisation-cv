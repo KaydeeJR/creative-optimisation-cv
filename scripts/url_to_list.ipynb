{
 "cells": [
  {
   "cell_type": "code",
   "execution_count": 1,
   "metadata": {},
   "outputs": [],
   "source": [
    "import pandas as pd\n",
    "data = pd.read_csv('../data/Challenge_Data/performance_data.csv')"
   ]
  },
  {
   "cell_type": "code",
   "execution_count": 3,
   "metadata": {},
   "outputs": [],
   "source": [
    "url_list = data['preview_link'].to_list()"
   ]
  },
  {
   "cell_type": "code",
   "execution_count": 7,
   "metadata": {},
   "outputs": [
    {
     "data": {
      "text/plain": [
       "['https://s3.us-east-1.amazonaws.com/a.futureadlabs.com-us-east-1-backup/us-east-1/games/bfbf7a2b7ac635e67877b1ab87fd6629/b7a604b3b08f0862ef0e/index.html',\n",
       " 'https://s3.us-east-1.amazonaws.com/a.futureadlabs.com-us-east-1-backup/us-east-1/games/945010afbf9a55bbdffcb0895f946155/b577a96a173578426456/index.html',\n",
       " 'https://s3.us-east-1.amazonaws.com/a.futureadlabs.com-us-east-1-backup/us-east-1/games/e68e20f592457b875ce29757ab855dfe/fd863cd05d916c06190e/index.html',\n",
       " 'https://s3.ap-southeast-1.amazonaws.com/a.futureadlabs.com-ap-southeast-1-backup/ap-southeast-1/games/adunit-nestle-purina-friskies-mob/191b0421b2f6a47b90ec/index.html',\n",
       " 'https://s3.us-west-1.amazonaws.com/a.futureadlabs.com-us-west-1-backup/us-west-1/games/adunit-lionsgate-uwomt-user-slider-sensory-video-final-mpu/c63a8034e40f55e28453/index.html',\n",
       " 'https://s3.us-west-1.amazonaws.com/a.futureadlabs.com-us-west-1-backup/us-west-1/games/84327cf26d2a91e2730ae7ddbfca6d59/91e424f0eec275d6e730/index.html',\n",
       " 'https://s3.eu-west-1.amazonaws.com/a.futureadlabs.com/games/08b7a12a72fb5100b27197c39bab1b70/1a0e258dc22f9e599b5a/index.html',\n",
       " 'https://s3.us-west-1.amazonaws.com/a.futureadlabs.com-us-west-1-backup/us-west-1/games/adunit-lionsgate-spiral-puzzle-v2-mpu/47ab0df166aaa7d1650f/index.html',\n",
       " 'https://s3.us-west-1.amazonaws.com/a.futureadlabs.com-us-west-1-backup/us-west-1/games/bb631902fce625cf0dc87d80c027c905/120778d80e4f5d5400c1/index.html',\n",
       " 'https://s3.us-west-1.amazonaws.com/a.futureadlabs.com-us-west-1-backup/us-west-1/games/adunit-western-union-sensory-unit-swipe-right-tap-mpu/571dd7229502e37d0b08/index.html',\n",
       " 'https://s3.us-west-1.amazonaws.com/a.futureadlabs.com-us-west-1-backup/us-west-1/games/bcc5ae4665b6b8c2ff25dfdc65fbc65a/a44f36bebcd4015d97c1/index.html',\n",
       " 'https://s3.us-east-1.amazonaws.com/a.futureadlabs.com-us-east-1-backup/us-east-1/games/adunit-chevy-hotspot-cpe-mpu/6e61b3065a836ba4585e/index.html',\n",
       " 'https://s3.us-west-1.amazonaws.com/a.futureadlabs.com-us-west-1-backup/us-west-1/games/adunit-yamaha-user-slider-rotate-v3-mob/495e0ccd72bc4ba61315/index.html',\n",
       " 'https://s3.us-east-1.amazonaws.com/a.futureadlabs.com-us-east-1-backup/us-east-1/games/adunit-showtime-dexture-post-mpu/2a56495edea092bd6ebb/index.html',\n",
       " 'https://s3.us-east-1.amazonaws.com/a.futureadlabs.com-us-east-1-backup/us-east-1/games/7fc571f85358c5d37efafde99b6896d7/036c038eab1c4bba5dbf/index.html',\n",
       " 'https://s3.ap-southeast-1.amazonaws.com/a.futureadlabs.com-ap-southeast-1-backup/ap-southeast-1/games/adunit-jaguar-nameplate-refresh-rfb-mpu/4f4cb9ca1b187b777f62/index.html',\n",
       " 'https://s3.us-west-1.amazonaws.com/a.futureadlabs.com-us-west-1-backup/us-west-1/games/79c36d2adb94900291f5ddf1f6580c43/7b89168d79fd1a2b918a/index.html',\n",
       " 'https://s3.us-west-1.amazonaws.com/a.futureadlabs.com-us-west-1-backup/us-west-1/games/c7ecd71b4632aea2ffca69a1d079b290/24b49a34c4ecbd4cb281/index.html',\n",
       " 'https://s3.ap-southeast-1.amazonaws.com/a.futureadlabs.com-ap-southeast-1-backup/ap-southeast-1/games/adunit-subway-better-for-you-mpu/843764a090645bd10d6a/index.html',\n",
       " 'https://s3.us-west-1.amazonaws.com/a.futureadlabs.com-us-west-1-backup/us-west-1/games/8fa19496d906812e1f44a983d347ee63/059d6f5b45977a6811f6/index.html',\n",
       " 'https://s3.us-east-1.amazonaws.com/a.futureadlabs.com-us-east-1-backup/us-east-1/games/3ef8b18ef78ad050d1a76b801d97a08c/2252d7c73a75a5e16e7b/index.html',\n",
       " 'https://s3.us-west-1.amazonaws.com/a.futureadlabs.com-us-west-1-backup/us-west-1/games/adunit-western-union-sensory-unit-swipe-up-tap-mpu/b913f117522f300efa26/index.html',\n",
       " 'https://s3.us-east-1.amazonaws.com/a.futureadlabs.com-us-east-1-backup/us-east-1/games/7f25293ac6d5c570749cea2af84e8439/9ab943018e9056118f17/index.html',\n",
       " 'https://s3.ap-southeast-1.amazonaws.com/a.futureadlabs.com-ap-southeast-1-backup/ap-southeast-1/games/3c23316180b7da3e712c0596fa01ff74/4f303e2f88d3e72eebb3/index.html',\n",
       " 'https://s3.us-west-1.amazonaws.com/a.futureadlabs.com-us-west-1-backup/us-west-1/games/459c60702cfaae32207a161b693df47c/1133512ed61b5c680644/index.html',\n",
       " 'https://s3.ap-southeast-1.amazonaws.com/a.futureadlabs.com-ap-southeast-1-backup/ap-southeast-1/games/adunit-standardchartered-bio-mob/08b9eb4c1d6913af13a8/index.html',\n",
       " 'https://s3.us-east-1.amazonaws.com/a.futureadlabs.com-us-east-1-backup/us-east-1/games/adunit-mouser-user-choice-v2-cpe-av-mob/19e2a3a6b8935d12639a/index.html',\n",
       " 'https://s3.us-east-1.amazonaws.com/a.futureadlabs.com-us-east-1-backup/us-east-1/games/61eb910425767fd90074a958328bee6a/178dfbe31740c8b88e34/index.html',\n",
       " 'https://s3.ap-southeast-1.amazonaws.com/a.futureadlabs.com-ap-southeast-1-backup/ap-southeast-1/games/adunit-facebook-conversational-commerce-3-0-vn-unit2-v2-mob/251fde5336081dd8b3d5/index.html',\n",
       " 'https://s3.us-east-1.amazonaws.com/a.futureadlabs.com-us-east-1-backup/us-east-1/games/3a5bb9945be02e4181eee1dec5c25edc/205aa99e383077f39e28/index.html',\n",
       " 'https://s3.us-east-1.amazonaws.com/a.futureadlabs.com-us-east-1-backup/us-east-1/games/e656e46e3a4dc66fc0baa433c94bfd1a/3ff9ff9852442759be4d/index.html',\n",
       " 'https://s3.eu-west-1.amazonaws.com/a.futureadlabs.com/games/4264eae0ad6e1cbcea3d73d88becb787/113449c4219fb9961ed8/index.html',\n",
       " 'https://s3.us-east-1.amazonaws.com/a.futureadlabs.com-us-east-1-backup/us-east-1/games/adunit-showtime-dexter-sensory-plus-video-canvas-post-mpu/1404283758e36cf235d4/index.html',\n",
       " 'https://s3.ap-southeast-1.amazonaws.com/a.futureadlabs.com-ap-southeast-1-backup/ap-southeast-1/games/6a3dbf08b82e45b3f3e79844f3a9aa18/7832c3a93ede399220fb/index.html',\n",
       " 'https://s3.ap-southeast-1.amazonaws.com/a.futureadlabs.com-ap-southeast-1-backup/ap-southeast-1/games/adunit-facebook-conversational-commerce-3-0-vn-unit2-mpu/459ddf31894386d5a252/index.html',\n",
       " 'https://s3.ap-east-1.amazonaws.com/a.futureadlabs.com-ap-east-1-backup/ap-east-1/games/adunit-kitkat-golden-break-gamify-en-mob/08725d5074d7024d8357/index.html',\n",
       " 'https://s3.us-east-1.amazonaws.com/a.futureadlabs.com-us-east-1-backup/us-east-1/games/29383bc5de5a62c642fb9434d71863e7/ac293152ebf5810e98ca/index.html',\n",
       " 'https://s3.ap-east-1.amazonaws.com/a.futureadlabs.com-ap-east-1-backup/ap-east-1/games/9278a3d31c76eaa929d2326e1b2062e1/486d816a3ade8419111b/index.html',\n",
       " 'https://s3.us-east-1.amazonaws.com/a.futureadlabs.com-us-east-1-backup/us-east-1/games/b768aedc20d9c135b355b7cd8e8beff3/7d0934c26ecd4f13644e/index.html',\n",
       " 'https://s3.us-west-1.amazonaws.com/a.futureadlabs.com-us-west-1-backup/us-west-1/games/ee11627c036ee9772446b6e3ac9da649/5f54e65e50a97cd8f5b6/index.html',\n",
       " 'https://s3.ap-southeast-1.amazonaws.com/a.futureadlabs.com-ap-southeast-1-backup/ap-southeast-1/games/07f93a53c25007301d276ec20e7be491/086e9fa6f7a69a309adb/index.html',\n",
       " 'https://s3.eu-west-1.amazonaws.com/a.futureadlabs.com/games/2a6bbf47edb9f1cb3a722784c5e73e83/17df26299d57ba88938b/index.html',\n",
       " 'https://s3.us-west-1.amazonaws.com/a.futureadlabs.com-us-west-1-backup/us-west-1/games/adunit-simple-feast-build-for-industry-survey-q3-mob/6777a8b3ccd501ab3703/index.html',\n",
       " 'https://s3.us-east-1.amazonaws.com/a.futureadlabs.com-us-east-1-backup/us-east-1/games/adunit-gme-user-choice-mpu/14cf82a33684bd9e58ef/index.html',\n",
       " 'https://s3.eu-west-1.amazonaws.com/a.futureadlabs.com/games/3a9208f5502fa4ad01ddf92a77a0e8a3/0e2efa87c2916c635822/index.html',\n",
       " 'https://s3.eu-west-1.amazonaws.com/a.futureadlabs.com/games/404c5d32b088d0869fd7774ce7582f89/0885fd04285674d08539/index.html',\n",
       " 'https://s3.us-east-1.amazonaws.com/a.futureadlabs.com-us-east-1-backup/us-east-1/games/b1e8cf36fefced5b9f20d291026b06db/7a940a71e23147ecd60f/index.html',\n",
       " 'https://s3.us-east-1.amazonaws.com/a.futureadlabs.com-us-east-1-backup/us-east-1/games/b285c9ac9aa1669a7350e4c4594ea571/fc0fbf7062a2bfb1cfca/index.html',\n",
       " 'https://s3.us-west-1.amazonaws.com/a.futureadlabs.com-us-west-1-backup/us-west-1/games/b8595cc38764f2c30d986c4c8080671c/aee990eda80a2b868610/index.html',\n",
       " 'https://s3.us-west-1.amazonaws.com/a.futureadlabs.com-us-west-1-backup/us-west-1/games/42dd2154c1b6f67a461463cf322c9830/7125a2ff0fd1e824bb74/index.html',\n",
       " 'https://s3.us-east-1.amazonaws.com/a.futureadlabs.com-us-east-1-backup/us-east-1/games/adunit-mouser-user-choice-v2-cpe-canada-mob/20f8bab0bfa0d138f0b5/index.html',\n",
       " 'https://s3.us-east-1.amazonaws.com/a.futureadlabs.com-us-east-1-backup/us-east-1/games/7db3a9c286b1a445845bad68ff95f2bb/26ae57f3a0e8e75f5693/index.html',\n",
       " 'https://s3.us-west-1.amazonaws.com/a.futureadlabs.com-us-west-1-backup/us-west-1/games/adunit-yamaha-wolverine-user-choice-av-mob/8c941e4ec1504ad99ba2/index.html',\n",
       " 'https://s3.ap-southeast-1.amazonaws.com/a.futureadlabs.com-ap-southeast-1-backup/ap-southeast-1/games/adunit-van-cleef-and-arpels-frivole-wave-unit1-mpu/88e806dc3f298424ad6e/index.html',\n",
       " 'https://s3.us-west-1.amazonaws.com/a.futureadlabs.com-us-west-1-backup/us-west-1/games/adunit-gme-user-choice-mob/0f41c5e626fc0c49925c/index.html',\n",
       " 'https://s3.us-west-1.amazonaws.com/a.futureadlabs.com-us-west-1-backup/us-west-1/games/73adaebd0fbf7778d06d9d711ba5c152/afedcb9bc6c7e779c09e/index.html',\n",
       " 'https://s3.us-east-1.amazonaws.com/a.futureadlabs.com-us-east-1-backup/us-east-1/games/3bc6564698bdf9559b98b255737bbedb/dc90eeca8df7cdbceecf/index.html',\n",
       " 'https://s3.us-east-1.amazonaws.com/a.futureadlabs.com-us-east-1-backup/us-east-1/games/df89c44299ec66120e89ab1d1296c26f/449d5c9d52a816548497/index.html',\n",
       " 'https://s3.ap-southeast-1.amazonaws.com/a.futureadlabs.com-ap-southeast-1-backup/ap-southeast-1/games/adunit-van-cleef-and-arpels-frivole-wave-unit1-mob/2361bdcdb1108ba8753a/index.html',\n",
       " 'https://s3.eu-west-1.amazonaws.com/a.futureadlabs.com/games/39d4594499ca9372338b51f71e0b6681/c02bebcee16123327848/index.html',\n",
       " 'https://s3.us-west-1.amazonaws.com/a.futureadlabs.com-us-west-1-backup/us-west-1/games/3c35998c3f4a279a008ac3ffd8481fea/071f14dc48317a72d4e5/index.html',\n",
       " 'https://s3.us-east-1.amazonaws.com/a.futureadlabs.com-us-east-1-backup/us-east-1/games/adunit-chevy-tap-and-hold-600-1200-mob/b6aee270c921b08c558c/index.html',\n",
       " 'https://s3.us-west-1.amazonaws.com/a.futureadlabs.com-us-west-1-backup/us-west-1/games/c706a9ad6b0c2ee9295fe40dfa5b0615/068653203a98a62e1b09/index.html',\n",
       " 'https://s3.us-east-1.amazonaws.com/a.futureadlabs.com-us-east-1-backup/us-east-1/games/8b6e13cab4903dffde5588ea2ab0c2a2/de4f9760d91c8dd3c2f4/index.html',\n",
       " 'https://s3.us-east-1.amazonaws.com/a.futureadlabs.com-us-east-1-backup/us-east-1/games/adunit-chevy-tap-final-mpu/c9dd86d99702109392df/index.html',\n",
       " 'https://s3.us-east-1.amazonaws.com/a.futureadlabs.com-us-east-1-backup/us-east-1/games/637244e2ca7b57187bd1b563a5b85846/1faffb49db5cb184ea43/index.html',\n",
       " 'https://s3.us-east-1.amazonaws.com/a.futureadlabs.com-us-east-1-backup/us-east-1/games/99558df7a3e64e9b15c34c20f44f038a/11ed0ea513079c796f52/index.html',\n",
       " 'https://s3.eu-west-1.amazonaws.com/a.futureadlabs.com/games/39825c2c74eae1fd9c73da842617d2da/69f4e3abf2b6fab323db/index.html',\n",
       " 'https://s3.us-west-1.amazonaws.com/a.futureadlabs.com-us-west-1-backup/us-west-1/games/ed9fd46313a5bce5f00d5fd720e5880f/0ff012c8ea6cfc947335/index.html',\n",
       " 'https://s3.us-west-1.amazonaws.com/a.futureadlabs.com-us-west-1-backup/us-west-1/games/c176d5a3e27117bc90e3820434a024d9/32e931e200abc1db3157/index.html',\n",
       " 'https://s3.ap-southeast-1.amazonaws.com/a.futureadlabs.com-ap-southeast-1-backup/ap-southeast-1/games/adunit-vodacom-ciot-curve-v1-mob/4a9fb8906f76a70047f5/index.html',\n",
       " 'https://s3.us-west-1.amazonaws.com/a.futureadlabs.com-us-west-1-backup/us-west-1/games/bf1f7af46eec0e92939a8b3ba51cbacd/20d187e0e3b7c83ecbae/index.html',\n",
       " 'https://s3.us-west-1.amazonaws.com/a.futureadlabs.com-us-west-1-backup/us-west-1/games/adunit-western-union-sensory-unit-swipe-right-tap-mob/5cd38300bf5bbe103c3c/index.html',\n",
       " 'https://s3.eu-west-1.amazonaws.com/a.futureadlabs.com/games/26e54c41e45e7bd0899b90fdacf124fd/5d54efe72ff500fc51b7/index.html',\n",
       " 'https://s3.us-east-1.amazonaws.com/a.futureadlabs.com-us-east-1-backup/us-east-1/games/adunit-mouser-user-choice-v2-cpe-av-canada-mpu/8f36d6c8922e31fc82d3/index.html',\n",
       " 'https://s3.us-west-1.amazonaws.com/a.futureadlabs.com-us-west-1-backup/us-west-1/games/d1e28a38a4e871527e62543540d0e7a7/f706ef12b184d2623d3e/index.html',\n",
       " 'https://s3.us-west-1.amazonaws.com/a.futureadlabs.com-us-west-1-backup/us-west-1/games/f5f846befe806be6021ff34f9fd60547/5f75cda2c2854e30eeed/index.html',\n",
       " 'https://s3.us-west-1.amazonaws.com/a.futureadlabs.com-us-west-1-backup/us-west-1/games/b4d26946d68754d77027cc419d36892f/0c94dc969d44411e4bef/index.html',\n",
       " 'https://s3.ap-southeast-1.amazonaws.com/a.futureadlabs.com-ap-southeast-1-backup/ap-southeast-1/games/adunit-nestle-maggi-varieties-bouillon-en-ksa-mob/73e13066c8e0c0255c81/index.html',\n",
       " 'https://s3.us-west-1.amazonaws.com/a.futureadlabs.com-us-west-1-backup/us-west-1/games/96510a48f1e13c601687e80f5d60670b/50492a8b8d1c0aa6963a/index.html',\n",
       " 'https://s3.us-west-1.amazonaws.com/a.futureadlabs.com-us-west-1-backup/us-west-1/games/adunit-lionsgate-uwomt-user-slider-sensory-video-final-tune2-mpu/code/index.html',\n",
       " 'https://s3.eu-west-1.amazonaws.com/a.futureadlabs.com/games/09f35af0a30b37dce2f1a5ad7f143293/3642ccd9ccbaf53c36d1/index.html',\n",
       " 'https://s3.us-east-1.amazonaws.com/a.futureadlabs.com-us-east-1-backup/us-east-1/games/adunit-mouser-user-choice-v2-cpe-mob/8929ecee536e34545cfb/index.html',\n",
       " 'https://s3.eu-west-1.amazonaws.com/a.futureadlabs.com/games/4443d262f14a8d6d58655dcf2e8c4542/a94121c7343f68076251/index.html',\n",
       " 'https://s3.ap-east-1.amazonaws.com/a.futureadlabs.com-ap-east-1-backup/ap-east-1/games/adunit-nutrella-barrilito-mpu/code/index.html',\n",
       " 'https://s3.eu-west-1.amazonaws.com/a.futureadlabs.com/games/3f08e75ebd9b0ca68ffd298893647a13/20e9226c214403bbdabf/index.html',\n",
       " 'https://s3.us-west-1.amazonaws.com/a.futureadlabs.com-us-west-1-backup/us-west-1/games/c21bfafc138cf023080098b0f7a439d0/c4d37b88723a8aeae3de/index.html',\n",
       " 'https://s3.us-east-1.amazonaws.com/a.futureadlabs.com-us-east-1-backup/us-east-1/games/adunit-mouser-user-choice-flight4-canada-cpe-av-mob/code/index.html',\n",
       " 'https://s3.ap-southeast-1.amazonaws.com/a.futureadlabs.com-ap-southeast-1-backup/ap-southeast-1/games/adunit-facebook-conversational-commerce-3-0-vn-unit1-mpu/0af6d71dfd2cb5cba786/index.html',\n",
       " 'https://s3.us-west-1.amazonaws.com/a.futureadlabs.com-us-west-1-backup/us-west-1/games/65299151bf4cbd1825d28e4a43d113ac/e00e7aafbfffa8dd8ee2/index.html',\n",
       " 'https://s3.us-east-1.amazonaws.com/a.futureadlabs.com-us-east-1-backup/us-east-1/games/adunit-mouser-user-choice-cpe-canada-mob/08fbd891f95ddd69cbe6/index.html',\n",
       " 'https://s3.ap-southeast-1.amazonaws.com/a.futureadlabs.com-ap-southeast-1-backup/ap-southeast-1/games/adunit-j-and-j-e-commerce-v1-mob/70f1611fed42d8fae0ab/index.html',\n",
       " 'https://s3.eu-west-1.amazonaws.com/a.futureadlabs.com/games/3ff8db0779a25d3a9b92aebfb0eebe69/aee32ebc3a4a76e7ca5c/index.html',\n",
       " 'https://s3.us-east-1.amazonaws.com/a.futureadlabs.com-us-east-1-backup/us-east-1/games/d3a2aee36af8bf076d1111a6115be31b/cc365c4985b04074873e/index.html',\n",
       " 'https://s3.us-east-1.amazonaws.com/a.futureadlabs.com-us-east-1-backup/us-east-1/games/b7aa3693292fc7cf17f4fc1da680bf5d/8853ae2de3168e9f50d4/index.html',\n",
       " 'https://s3.eu-west-1.amazonaws.com/a.futureadlabs.com/games/015f38df736f5a9498b18a1d12170187/6874c32a001662d70c9b/index.html',\n",
       " 'https://s3.ap-southeast-1.amazonaws.com/a.futureadlabs.com-ap-southeast-1-backup/ap-southeast-1/games/db69df88f5a7b1540d4ff829bffb97f9/1478ebe3d334af34de01/index.html',\n",
       " 'https://s3.eu-west-1.amazonaws.com/a.futureadlabs.com/games/22c8ca74c84370214de628417aff20d6/47aaf2f8ecbfde3e8b14/index.html',\n",
       " 'https://s3.us-east-1.amazonaws.com/a.futureadlabs.com-us-east-1-backup/us-east-1/games/d6875bfe73a3abc7eea25b7de121c643/16fc368b63fb837b805f/index.html',\n",
       " 'https://s3.us-east-1.amazonaws.com/a.futureadlabs.com-us-east-1-backup/us-east-1/games/6939c3f395fc2317da25fa5b19580c68/993d5bd55ba43f24d832/index.html']"
      ]
     },
     "execution_count": 7,
     "metadata": {},
     "output_type": "execute_result"
    }
   ],
   "source": [
    "url_list = url_list[:100]\n",
    "url_list"
   ]
  },
  {
   "cell_type": "code",
   "execution_count": 5,
   "metadata": {},
   "outputs": [
    {
     "data": {
      "text/plain": [
       "(905,)"
      ]
     },
     "execution_count": 5,
     "metadata": {},
     "output_type": "execute_result"
    }
   ],
   "source": [
    "import numpy as np\n",
    "\n",
    "x = np.array(url_list)\n",
    "x = np.unique(x)\n",
    "x.shape"
   ]
  }
 ],
 "metadata": {
  "kernelspec": {
   "display_name": "Python 3.8.10 ('.env': venv)",
   "language": "python",
   "name": "python3"
  },
  "language_info": {
   "codemirror_mode": {
    "name": "ipython",
    "version": 3
   },
   "file_extension": ".py",
   "mimetype": "text/x-python",
   "name": "python",
   "nbconvert_exporter": "python",
   "pygments_lexer": "ipython3",
   "version": "3.8.10"
  },
  "orig_nbformat": 4,
  "vscode": {
   "interpreter": {
    "hash": "bc129abd2f7491e5923cf05ccd2ab6ea906a3ae76280879defadd05f41862ba1"
   }
  }
 },
 "nbformat": 4,
 "nbformat_minor": 2
}
